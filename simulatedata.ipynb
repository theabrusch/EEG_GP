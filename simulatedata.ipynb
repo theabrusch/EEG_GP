{
 "metadata": {
  "language_info": {
   "codemirror_mode": {
    "name": "ipython",
    "version": 3
   },
   "file_extension": ".py",
   "mimetype": "text/x-python",
   "name": "python",
   "nbconvert_exporter": "python",
   "pygments_lexer": "ipython3",
   "version": "3.9.5"
  },
  "orig_nbformat": 2,
  "kernelspec": {
   "name": "python3",
   "display_name": "Python 3.9.5 64-bit ('EEG_GP_env': conda)"
  },
  "metadata": {
   "interpreter": {
    "hash": "effce488eedd4ba9709f1938f5a027652d3383e2e8257260961320943a645448"
   }
  },
  "interpreter": {
   "hash": "effce488eedd4ba9709f1938f5a027652d3383e2e8257260961320943a645448"
  }
 },
 "nbformat": 4,
 "nbformat_minor": 2,
 "cells": [
  {
   "cell_type": "code",
   "execution_count": null,
   "metadata": {},
   "outputs": [],
   "source": [
    "import numpy as np \n",
    "import mne \n",
    "import matplotlib.pyplot as plt\n",
    "from fastdtw import fastdtw\n",
    "from scipy.spatial.distance import euclidean\n",
    "from src.GP.gp_algorithms import Multiclass_GP\n",
    "from src.GP.kernels import FastGA, AGDTW\n",
    "from dtw import *"
   ]
  },
  {
   "cell_type": "code",
   "execution_count": null,
   "metadata": {},
   "outputs": [],
   "source": [
    "## Simulate two different time series\n",
    "# First a sine based time series with random offset and phase\n",
    "N = 100\n",
    "T = 150\n",
    "sine_TS = np.zeros((N, T))\n",
    "x = np.linspace(0, 8*np.pi, T)\n",
    "sigma = 0.5\n",
    "\n",
    "for i in range(N):\n",
    "    phase_shift = np.random.normal(0, np.pi)\n",
    "    off_set = np.random.normal()\n",
    "    noise = np.random.normal(0, sigma, T)\n",
    "    sine_TS[i,:] = np.sin(x+phase_shift) + noise"
   ]
  },
  {
   "cell_type": "code",
   "execution_count": null,
   "metadata": {},
   "outputs": [],
   "source": [
    "## Then an AR(1) time series\n",
    "AR_TS = np.zeros((N,T))\n",
    "alpha = np.random.normal()\n",
    "beta1 = 0.5*np.random.uniform(-1,1)\n",
    "beta2 = 0.3*np.random.uniform(-1,1)\n",
    "\n",
    "for i in range(N):\n",
    "    AR_TS[i,0] = np.random.normal()\n",
    "    AR_TS[i,1] = alpha + beta1*AR_TS[i,0] + np.random.normal(0, sigma)\n",
    "    for t in range(2, T):\n",
    "        noise = np.random.normal(0,sigma)\n",
    "        AR_TS[i,t] = alpha + beta1*AR_TS[i,t-1] + beta2*AR_TS[i,t-2] + noise"
   ]
  },
  {
   "cell_type": "code",
   "execution_count": null,
   "metadata": {},
   "outputs": [],
   "source": [
    "plt.plot(sine_TS[0,:])\n",
    "plt.plot(sine_TS[1,:])\n",
    "plt.show()\n",
    "\n",
    "plt.plot(AR_TS[0,:])\n",
    "plt.plot(AR_TS[1,:])\n",
    "plt.show()"
   ]
  },
  {
   "cell_type": "code",
   "execution_count": null,
   "metadata": {},
   "outputs": [],
   "source": [
    "# Test dynamic time warping\n",
    "distance_sine, path_sine = fastdtw(sine_TS[0,:],sine_TS[1,:], dist=euclidean)\n",
    "path_sine = np.array(path_sine)\n",
    "\n",
    "distance_AR, path_AR = fastdtw(AR_TS[0,:],AR_TS[1,:], dist=euclidean)\n",
    "path_AR = np.array(path_AR)"
   ]
  },
  {
   "cell_type": "code",
   "execution_count": null,
   "metadata": {},
   "outputs": [],
   "source": [
    "out = dtw(sine_TS[0,:],sine_TS[1,:])\n",
    "out.index1"
   ]
  },
  {
   "cell_type": "code",
   "execution_count": null,
   "metadata": {},
   "outputs": [],
   "source": [
    "plt.plot(sine_TS[0,:][path_sine[:,0]])\n",
    "plt.plot(sine_TS[1,:][path_sine[:,1]])\n",
    "plt.show()\n",
    "\n",
    "plt.plot(AR_TS[0,:][path_AR[:,0]])\n",
    "plt.plot(AR_TS[1,:][path_AR[:,1]])\n",
    "plt.show()"
   ]
  },
  {
   "cell_type": "code",
   "execution_count": null,
   "metadata": {
    "tags": []
   },
   "outputs": [],
   "source": [
    "%%time\n",
    "x = np.concatenate((AR_TS, sine_TS), axis = 0)\n",
    "kernel = AGDTW(sigma = 10)\n",
    "K1 = kernel(x)"
   ]
  },
  {
   "cell_type": "code",
   "execution_count": null,
   "metadata": {},
   "outputs": [],
   "source": [
    "plt.matshow(K1)\n",
    "plt.show()"
   ]
  },
  {
   "cell_type": "code",
   "execution_count": null,
   "metadata": {},
   "outputs": [],
   "source": [
    "from tslearn.metrics import gak, sigma_gak\n",
    "\n",
    "class FastGA():\n",
    "    def __init__(self, sigma):\n",
    "        self.sigma = sigma\n",
    "    \n",
    "    def __call__(self, x, xstar = None):\n",
    "        if xstar is not None:\n",
    "            K = np.zeros((len(x), len(xstar)))\n",
    "            for i in range(len(xstar)):\n",
    "                print('Observation', i)\n",
    "                for j in range(len(x)):\n",
    "                    print('Observation', i)\n",
    "                    K[j,i] = gak(x[j], xstar[i], sigma=self.sigma)\n",
    "        else:\n",
    "            K = np.zeros((len(x),len(x)))\n",
    "            for i in range(len(x)):\n",
    "                print('Observation', i)\n",
    "                for j in range(i, len(x)):\n",
    "                    print('Observation', i)\n",
    "                    K[j,i] = gak(x[j], x[i], sigma=self.sigma)\n",
    "            # add lower triangle\n",
    "            K = K + K.T - np.diag(K)\n",
    "            \n",
    "        return K\n"
   ]
  },
  {
   "cell_type": "code",
   "execution_count": null,
   "metadata": {},
   "outputs": [],
   "source": [
    "\n",
    "class AGDTW():\n",
    "    def __init__(self, sigma, **kwargs):\n",
    "        self.sigma = sigma\n",
    "    \n",
    "    def __call__(self, x, xstar = None):\n",
    "        if xstar is not None:\n",
    "            K = np.zeros((len(x), len(xstar)))\n",
    "            for i in range(len(xstar)):\n",
    "                for j in range(len(x)):\n",
    "                    out = dtw(xstar[i,:], x[j,:])\n",
    "                    dist = np.exp(-(xstar[i,out.index1] - \\\n",
    "                                    x[j,out.index2])**2/self.sigma**2)\n",
    "                    K[j,i] = np.sum(dist)\n",
    "\n",
    "        else:\n",
    "            K = np.zeros((len(x), len(x)))\n",
    "            for i in range(len(x)):\n",
    "                for j in range(i, len(x)):\n",
    "                    out = dtw(x[i,:], x[j,:])\n",
    "                    dist = np.exp(-(x[i,out.index1] - x[j,out.index2])**2/self.sigma**2)\n",
    "                    K[j,i] = np.sum(dist)\n",
    "                    \n",
    "            # add lower triangle\n",
    "            K = K + K.T - np.diag(K)\n",
    "        return K"
   ]
  },
  {
   "cell_type": "code",
   "execution_count": null,
   "metadata": {},
   "outputs": [],
   "source": []
  }
 ]
}